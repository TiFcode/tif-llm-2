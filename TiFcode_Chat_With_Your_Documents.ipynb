{
  "nbformat": 4,
  "nbformat_minor": 0,
  "metadata": {
    "colab": {
      "provenance": [],
      "authorship_tag": "ABX9TyOMkj4qwWcXVmG3MyDzKL/F",
      "include_colab_link": true
    },
    "kernelspec": {
      "name": "python3",
      "display_name": "Python 3"
    },
    "language_info": {
      "name": "python"
    }
  },
  "cells": [
    {
      "cell_type": "markdown",
      "metadata": {
        "id": "view-in-github",
        "colab_type": "text"
      },
      "source": [
        "<a href=\"https://colab.research.google.com/github/TiFcode/tif-llm-2/blob/main/TiFcode_Chat_With_Your_Documents.ipynb\" target=\"_parent\"><img src=\"https://colab.research.google.com/assets/colab-badge.svg\" alt=\"Open In Colab\"/></a>"
      ]
    },
    {
      "cell_type": "markdown",
      "source": [
        "# TiFcode - Chat With Your Documents"
      ],
      "metadata": {
        "id": "vY4vg3ZCEhVP"
      }
    },
    {
      "cell_type": "code",
      "source": [],
      "metadata": {
        "id": "DmnLf5_zFBly"
      },
      "execution_count": null,
      "outputs": []
    }
  ]
}